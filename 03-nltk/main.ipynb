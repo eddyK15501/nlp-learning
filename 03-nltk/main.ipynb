{
 "cells": [
  {
   "cell_type": "markdown",
   "metadata": {},
   "source": [
    "## NTLK"
   ]
  },
  {
   "cell_type": "code",
   "execution_count": 4,
   "metadata": {},
   "outputs": [
    {
     "name": "stdout",
     "output_type": "stream",
     "text": [
      "Requirement already satisfied: nltk in /Users/edwardkim/Python/Streamlit/venv/lib/python3.12/site-packages (3.9.1)\n",
      "Requirement already satisfied: click in /Users/edwardkim/Python/Streamlit/venv/lib/python3.12/site-packages (from nltk) (8.1.7)\n",
      "Requirement already satisfied: joblib in /Users/edwardkim/Python/Streamlit/venv/lib/python3.12/site-packages (from nltk) (1.4.2)\n",
      "Requirement already satisfied: regex>=2021.8.3 in /Users/edwardkim/Python/Streamlit/venv/lib/python3.12/site-packages (from nltk) (2024.9.11)\n",
      "Requirement already satisfied: tqdm in /Users/edwardkim/Python/Streamlit/venv/lib/python3.12/site-packages (from nltk) (4.66.5)\n",
      "Note: you may need to restart the kernel to use updated packages.\n"
     ]
    }
   ],
   "source": [
    "%pip install --upgrade nltk"
   ]
  },
  {
   "cell_type": "code",
   "execution_count": 57,
   "metadata": {},
   "outputs": [],
   "source": [
    "corpus = \"\"\"Hi there. My name's Edward.\n",
    "I am writing a corpus for text-preprocessing. \n",
    "A corpus is a paragraph. A document is a group of sentences.\n",
    "\"\"\""
   ]
  },
  {
   "cell_type": "code",
   "execution_count": 58,
   "metadata": {},
   "outputs": [
    {
     "name": "stdout",
     "output_type": "stream",
     "text": [
      "Hi there. My name's Edward.\n",
      "I am writing a corpus for text-preprocessing. \n",
      "A corpus is a paragraph. A document is a group of sentences.\n",
      "\n"
     ]
    }
   ],
   "source": [
    "print(corpus)"
   ]
  },
  {
   "cell_type": "code",
   "execution_count": 59,
   "metadata": {},
   "outputs": [
    {
     "name": "stderr",
     "output_type": "stream",
     "text": [
      "[nltk_data] Downloading package punkt to /Users/edwardkim/nltk_data...\n",
      "[nltk_data]   Package punkt is already up-to-date!\n",
      "[nltk_data] Downloading package punkt_tab to\n",
      "[nltk_data]     /Users/edwardkim/nltk_data...\n",
      "[nltk_data]   Package punkt_tab is already up-to-date!\n"
     ]
    },
    {
     "data": {
      "text/plain": [
       "True"
      ]
     },
     "execution_count": 59,
     "metadata": {},
     "output_type": "execute_result"
    }
   ],
   "source": [
    "## Tokenization\n",
    "## Paragraph => Sentences\n",
    "\n",
    "import nltk\n",
    "nltk.download('punkt')\n",
    "nltk.download('punkt_tab')"
   ]
  },
  {
   "cell_type": "code",
   "execution_count": 60,
   "metadata": {},
   "outputs": [],
   "source": [
    "from nltk.tokenize import sent_tokenize\n",
    "\n",
    "document = sent_tokenize(corpus)"
   ]
  },
  {
   "cell_type": "code",
   "execution_count": 61,
   "metadata": {},
   "outputs": [
    {
     "data": {
      "text/plain": [
       "['Hi there.',\n",
       " \"My name's Edward.\",\n",
       " 'I am writing a corpus for text-preprocessing.',\n",
       " 'A corpus is a paragraph.',\n",
       " 'A document is a group of sentences.']"
      ]
     },
     "execution_count": 61,
     "metadata": {},
     "output_type": "execute_result"
    }
   ],
   "source": [
    "document"
   ]
  },
  {
   "cell_type": "code",
   "execution_count": 62,
   "metadata": {},
   "outputs": [
    {
     "data": {
      "text/plain": [
       "list"
      ]
     },
     "execution_count": 62,
     "metadata": {},
     "output_type": "execute_result"
    }
   ],
   "source": [
    "type(document)"
   ]
  },
  {
   "cell_type": "code",
   "execution_count": 63,
   "metadata": {},
   "outputs": [
    {
     "name": "stdout",
     "output_type": "stream",
     "text": [
      "Hi there.\n",
      "My name's Edward.\n",
      "I am writing a corpus for text-preprocessing.\n",
      "A corpus is a paragraph.\n",
      "A document is a group of sentences.\n"
     ]
    }
   ],
   "source": [
    "for sentences in document:\n",
    "    print(sentences)"
   ]
  },
  {
   "cell_type": "code",
   "execution_count": 65,
   "metadata": {},
   "outputs": [
    {
     "data": {
      "text/plain": [
       "['Hi',\n",
       " 'there',\n",
       " '.',\n",
       " 'My',\n",
       " 'name',\n",
       " \"'s\",\n",
       " 'Edward',\n",
       " '.',\n",
       " 'I',\n",
       " 'am',\n",
       " 'writing',\n",
       " 'a',\n",
       " 'corpus',\n",
       " 'for',\n",
       " 'text-preprocessing',\n",
       " '.',\n",
       " 'A',\n",
       " 'corpus',\n",
       " 'is',\n",
       " 'a',\n",
       " 'paragraph',\n",
       " '.',\n",
       " 'A',\n",
       " 'document',\n",
       " 'is',\n",
       " 'a',\n",
       " 'group',\n",
       " 'of',\n",
       " 'sentences',\n",
       " '.']"
      ]
     },
     "execution_count": 65,
     "metadata": {},
     "output_type": "execute_result"
    }
   ],
   "source": [
    "## Tokenization\n",
    "## Paragraph => Words\n",
    "\n",
    "from nltk.tokenize import word_tokenize\n",
    "\n",
    "word_tokenize(corpus)"
   ]
  },
  {
   "cell_type": "code",
   "execution_count": 66,
   "metadata": {},
   "outputs": [
    {
     "name": "stdout",
     "output_type": "stream",
     "text": [
      "['Hi', 'there', '.']\n",
      "['My', 'name', \"'s\", 'Edward', '.']\n",
      "['I', 'am', 'writing', 'a', 'corpus', 'for', 'text-preprocessing', '.']\n",
      "['A', 'corpus', 'is', 'a', 'paragraph', '.']\n",
      "['A', 'document', 'is', 'a', 'group', 'of', 'sentences', '.']\n"
     ]
    }
   ],
   "source": [
    "for sentences in document:\n",
    "    print(word_tokenize(sentences))"
   ]
  },
  {
   "cell_type": "code",
   "execution_count": 67,
   "metadata": {},
   "outputs": [
    {
     "data": {
      "text/plain": [
       "['Hi',\n",
       " 'there',\n",
       " '.',\n",
       " 'My',\n",
       " 'name',\n",
       " \"'\",\n",
       " 's',\n",
       " 'Edward',\n",
       " '.',\n",
       " 'I',\n",
       " 'am',\n",
       " 'writing',\n",
       " 'a',\n",
       " 'corpus',\n",
       " 'for',\n",
       " 'text',\n",
       " '-',\n",
       " 'preprocessing',\n",
       " '.',\n",
       " 'A',\n",
       " 'corpus',\n",
       " 'is',\n",
       " 'a',\n",
       " 'paragraph',\n",
       " '.',\n",
       " 'A',\n",
       " 'document',\n",
       " 'is',\n",
       " 'a',\n",
       " 'group',\n",
       " 'of',\n",
       " 'sentences',\n",
       " '.']"
      ]
     },
     "execution_count": 67,
     "metadata": {},
     "output_type": "execute_result"
    }
   ],
   "source": [
    "## Tokenization\n",
    "## Additional seperation of punctuations from words\n",
    "\n",
    "from nltk.tokenize import wordpunct_tokenize\n",
    "\n",
    "wordpunct_tokenize(corpus)"
   ]
  },
  {
   "cell_type": "code",
   "execution_count": 77,
   "metadata": {},
   "outputs": [
    {
     "data": {
      "text/plain": [
       "['Hi',\n",
       " 'there.',\n",
       " 'My',\n",
       " 'name',\n",
       " \"'s\",\n",
       " 'Edward.',\n",
       " 'I',\n",
       " 'am',\n",
       " 'writing',\n",
       " 'a',\n",
       " 'corpus',\n",
       " 'for',\n",
       " 'text-preprocessing.',\n",
       " 'A',\n",
       " 'corpus',\n",
       " 'is',\n",
       " 'a',\n",
       " 'paragraph.',\n",
       " 'A',\n",
       " 'document',\n",
       " 'is',\n",
       " 'a',\n",
       " 'group',\n",
       " 'of',\n",
       " 'sentences',\n",
       " '.']"
      ]
     },
     "execution_count": 77,
     "metadata": {},
     "output_type": "execute_result"
    }
   ],
   "source": [
    "## Tokenization\n",
    "## Full Stop is included in the words \n",
    "## (This is less used than word_tokenize)\n",
    "\n",
    "from nltk.tokenize import TreebankWordTokenizer\n",
    "\n",
    "tokenizer = TreebankWordTokenizer()\n",
    "tokenizer.tokenize(corpus)"
   ]
  },
  {
   "cell_type": "code",
   "execution_count": null,
   "metadata": {},
   "outputs": [],
   "source": []
  }
 ],
 "metadata": {
  "kernelspec": {
   "display_name": "Python 3 (ipykernel)",
   "language": "python",
   "name": "python3"
  },
  "language_info": {
   "codemirror_mode": {
    "name": "ipython",
    "version": 3
   },
   "file_extension": ".py",
   "mimetype": "text/x-python",
   "name": "python",
   "nbconvert_exporter": "python",
   "pygments_lexer": "ipython3",
   "version": "3.12.4"
  }
 },
 "nbformat": 4,
 "nbformat_minor": 4
}
