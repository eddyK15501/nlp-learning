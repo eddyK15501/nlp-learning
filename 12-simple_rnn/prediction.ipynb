{
 "cells": [
  {
   "cell_type": "code",
   "execution_count": 1,
   "metadata": {},
   "outputs": [],
   "source": [
    "import numpy as np\n",
    "import tensorflow as tf\n",
    "from tensorflow.keras.datasets import imdb\n",
    "from tensorflow.keras.preprocessing import sequence\n",
    "from tensorflow.keras.models import load_model"
   ]
  },
  {
   "cell_type": "code",
   "execution_count": 2,
   "metadata": {},
   "outputs": [],
   "source": [
    "word_index = imdb.get_word_index()\n",
    "\n",
    "reverse_word_index = {value: key for key, value in word_index.items()}"
   ]
  },
  {
   "cell_type": "code",
   "execution_count": 4,
   "metadata": {},
   "outputs": [
    {
     "name": "stderr",
     "output_type": "stream",
     "text": [
      "WARNING:absl:Compiled the loaded model, but the compiled metrics have yet to be built. `model.compile_metrics` will be empty until you train or evaluate the model.\n"
     ]
    },
    {
     "data": {
      "text/html": [
       "<pre style=\"white-space:pre;overflow-x:auto;line-height:normal;font-family:Menlo,'DejaVu Sans Mono',consolas,'Courier New',monospace\"><span style=\"font-weight: bold\">Model: \"sequential_3\"</span>\n",
       "</pre>\n"
      ],
      "text/plain": [
       "\u001b[1mModel: \"sequential_3\"\u001b[0m\n"
      ]
     },
     "metadata": {},
     "output_type": "display_data"
    },
    {
     "data": {
      "text/html": [
       "<pre style=\"white-space:pre;overflow-x:auto;line-height:normal;font-family:Menlo,'DejaVu Sans Mono',consolas,'Courier New',monospace\">┏━━━━━━━━━━━━━━━━━━━━━━━━━━━━━━━━━┳━━━━━━━━━━━━━━━━━━━━━━━━┳━━━━━━━━━━━━━━━┓\n",
       "┃<span style=\"font-weight: bold\"> Layer (type)                    </span>┃<span style=\"font-weight: bold\"> Output Shape           </span>┃<span style=\"font-weight: bold\">       Param # </span>┃\n",
       "┡━━━━━━━━━━━━━━━━━━━━━━━━━━━━━━━━━╇━━━━━━━━━━━━━━━━━━━━━━━━╇━━━━━━━━━━━━━━━┩\n",
       "│ embedding_3 (<span style=\"color: #0087ff; text-decoration-color: #0087ff\">Embedding</span>)         │ (<span style=\"color: #00d7ff; text-decoration-color: #00d7ff\">None</span>, <span style=\"color: #00af00; text-decoration-color: #00af00\">500</span>, <span style=\"color: #00af00; text-decoration-color: #00af00\">128</span>)       │     <span style=\"color: #00af00; text-decoration-color: #00af00\">1,280,000</span> │\n",
       "├─────────────────────────────────┼────────────────────────┼───────────────┤\n",
       "│ simple_rnn_3 (<span style=\"color: #0087ff; text-decoration-color: #0087ff\">SimpleRNN</span>)        │ (<span style=\"color: #00d7ff; text-decoration-color: #00d7ff\">None</span>, <span style=\"color: #00af00; text-decoration-color: #00af00\">128</span>)            │        <span style=\"color: #00af00; text-decoration-color: #00af00\">32,896</span> │\n",
       "├─────────────────────────────────┼────────────────────────┼───────────────┤\n",
       "│ dense_3 (<span style=\"color: #0087ff; text-decoration-color: #0087ff\">Dense</span>)                 │ (<span style=\"color: #00d7ff; text-decoration-color: #00d7ff\">None</span>, <span style=\"color: #00af00; text-decoration-color: #00af00\">1</span>)              │           <span style=\"color: #00af00; text-decoration-color: #00af00\">129</span> │\n",
       "└─────────────────────────────────┴────────────────────────┴───────────────┘\n",
       "</pre>\n"
      ],
      "text/plain": [
       "┏━━━━━━━━━━━━━━━━━━━━━━━━━━━━━━━━━┳━━━━━━━━━━━━━━━━━━━━━━━━┳━━━━━━━━━━━━━━━┓\n",
       "┃\u001b[1m \u001b[0m\u001b[1mLayer (type)                   \u001b[0m\u001b[1m \u001b[0m┃\u001b[1m \u001b[0m\u001b[1mOutput Shape          \u001b[0m\u001b[1m \u001b[0m┃\u001b[1m \u001b[0m\u001b[1m      Param #\u001b[0m\u001b[1m \u001b[0m┃\n",
       "┡━━━━━━━━━━━━━━━━━━━━━━━━━━━━━━━━━╇━━━━━━━━━━━━━━━━━━━━━━━━╇━━━━━━━━━━━━━━━┩\n",
       "│ embedding_3 (\u001b[38;5;33mEmbedding\u001b[0m)         │ (\u001b[38;5;45mNone\u001b[0m, \u001b[38;5;34m500\u001b[0m, \u001b[38;5;34m128\u001b[0m)       │     \u001b[38;5;34m1,280,000\u001b[0m │\n",
       "├─────────────────────────────────┼────────────────────────┼───────────────┤\n",
       "│ simple_rnn_3 (\u001b[38;5;33mSimpleRNN\u001b[0m)        │ (\u001b[38;5;45mNone\u001b[0m, \u001b[38;5;34m128\u001b[0m)            │        \u001b[38;5;34m32,896\u001b[0m │\n",
       "├─────────────────────────────────┼────────────────────────┼───────────────┤\n",
       "│ dense_3 (\u001b[38;5;33mDense\u001b[0m)                 │ (\u001b[38;5;45mNone\u001b[0m, \u001b[38;5;34m1\u001b[0m)              │           \u001b[38;5;34m129\u001b[0m │\n",
       "└─────────────────────────────────┴────────────────────────┴───────────────┘\n"
      ]
     },
     "metadata": {},
     "output_type": "display_data"
    },
    {
     "data": {
      "text/html": [
       "<pre style=\"white-space:pre;overflow-x:auto;line-height:normal;font-family:Menlo,'DejaVu Sans Mono',consolas,'Courier New',monospace\"><span style=\"font-weight: bold\"> Total params: </span><span style=\"color: #00af00; text-decoration-color: #00af00\">1,313,027</span> (5.01 MB)\n",
       "</pre>\n"
      ],
      "text/plain": [
       "\u001b[1m Total params: \u001b[0m\u001b[38;5;34m1,313,027\u001b[0m (5.01 MB)\n"
      ]
     },
     "metadata": {},
     "output_type": "display_data"
    },
    {
     "data": {
      "text/html": [
       "<pre style=\"white-space:pre;overflow-x:auto;line-height:normal;font-family:Menlo,'DejaVu Sans Mono',consolas,'Courier New',monospace\"><span style=\"font-weight: bold\"> Trainable params: </span><span style=\"color: #00af00; text-decoration-color: #00af00\">1,313,025</span> (5.01 MB)\n",
       "</pre>\n"
      ],
      "text/plain": [
       "\u001b[1m Trainable params: \u001b[0m\u001b[38;5;34m1,313,025\u001b[0m (5.01 MB)\n"
      ]
     },
     "metadata": {},
     "output_type": "display_data"
    },
    {
     "data": {
      "text/html": [
       "<pre style=\"white-space:pre;overflow-x:auto;line-height:normal;font-family:Menlo,'DejaVu Sans Mono',consolas,'Courier New',monospace\"><span style=\"font-weight: bold\"> Non-trainable params: </span><span style=\"color: #00af00; text-decoration-color: #00af00\">0</span> (0.00 B)\n",
       "</pre>\n"
      ],
      "text/plain": [
       "\u001b[1m Non-trainable params: \u001b[0m\u001b[38;5;34m0\u001b[0m (0.00 B)\n"
      ]
     },
     "metadata": {},
     "output_type": "display_data"
    },
    {
     "data": {
      "text/html": [
       "<pre style=\"white-space:pre;overflow-x:auto;line-height:normal;font-family:Menlo,'DejaVu Sans Mono',consolas,'Courier New',monospace\"><span style=\"font-weight: bold\"> Optimizer params: </span><span style=\"color: #00af00; text-decoration-color: #00af00\">2</span> (12.00 B)\n",
       "</pre>\n"
      ],
      "text/plain": [
       "\u001b[1m Optimizer params: \u001b[0m\u001b[38;5;34m2\u001b[0m (12.00 B)\n"
      ]
     },
     "metadata": {},
     "output_type": "display_data"
    }
   ],
   "source": [
    "model = load_model('./simple_rnn_imdb.h5')\n",
    "\n",
    "model.summary()"
   ]
  },
  {
   "cell_type": "code",
   "execution_count": 5,
   "metadata": {},
   "outputs": [
    {
     "data": {
      "text/plain": [
       "[array([[ 2.4640886e-01,  2.6107588e-01,  6.7634657e-02, ...,\n",
       "          2.2824049e-01, -4.4150781e-02,  2.1329622e-01],\n",
       "        [-3.4222640e-02,  3.9690837e-02, -4.8961520e-02, ...,\n",
       "          3.6026005e-02, -2.2253215e-02,  5.1299796e-02],\n",
       "        [ 5.6774667e-03,  1.4685706e-02, -1.1153118e-03, ...,\n",
       "          2.6167275e-02, -4.9397089e-02,  5.8402497e-02],\n",
       "        ...,\n",
       "        [ 5.8113886e-03, -2.6924660e-02, -1.2748520e-03, ...,\n",
       "         -2.2492903e-04, -3.5083804e-02,  1.4661222e-02],\n",
       "        [-1.4666572e-02,  4.8456960e-03,  1.6576452e-02, ...,\n",
       "         -5.2405824e-03, -7.6528899e-02, -2.9376147e-02],\n",
       "        [ 6.6290677e-02, -1.8696526e-02, -2.8830105e-03, ...,\n",
       "         -6.3474670e-02,  4.8714068e-02, -6.8808936e-02]], dtype=float32),\n",
       " array([[-0.12945567,  0.02180816, -0.12638287, ...,  0.08280805,\n",
       "          0.02914106, -0.0437373 ],\n",
       "        [-0.09235311,  0.01490255, -0.10423459, ..., -0.19535205,\n",
       "          0.03752802, -0.07425377],\n",
       "        [ 0.10439825,  0.10237489, -0.00174532, ...,  0.03225853,\n",
       "          0.12410858,  0.14276685],\n",
       "        ...,\n",
       "        [-0.12260826, -0.14013948, -0.08430769, ...,  0.03451309,\n",
       "          0.0804822 , -0.0199628 ],\n",
       "        [-0.06794538,  0.07706656,  0.05650851, ...,  0.17514458,\n",
       "          0.06408574, -0.08789729],\n",
       "        [-0.06522131,  0.04032902, -0.07676317, ..., -0.04163843,\n",
       "         -0.13401201, -0.1151309 ]], dtype=float32),\n",
       " array([[ 0.11932323, -0.05257444,  0.06654582, ..., -0.07659193,\n",
       "         -0.01462524,  0.00889768],\n",
       "        [ 0.06488428,  0.08557792, -0.15975791, ...,  0.02417911,\n",
       "          0.18987863,  0.20442475],\n",
       "        [-0.08364102,  0.18792732,  0.0798981 , ..., -0.03341732,\n",
       "         -0.04501744, -0.20309588],\n",
       "        ...,\n",
       "        [ 0.06762039,  0.03319946,  0.13388644, ..., -0.0372482 ,\n",
       "          0.01173013,  0.01202872],\n",
       "        [-0.01773975, -0.07055544, -0.09187068, ...,  0.05943508,\n",
       "         -0.08475883,  0.01327744],\n",
       "        [ 0.05566486,  0.05243545, -0.10419239, ...,  0.13529865,\n",
       "          0.2235385 , -0.05756153]], dtype=float32),\n",
       " array([-0.01628809, -0.0014777 , -0.03954013, -0.00507649, -0.0033087 ,\n",
       "         0.01095388, -0.02010588, -0.01652176, -0.01290684, -0.02246017,\n",
       "        -0.01113177,  0.00875825, -0.0104182 ,  0.02272804,  0.01969131,\n",
       "        -0.01270413, -0.00942261,  0.00060316,  0.00739918, -0.01260562,\n",
       "         0.00912198,  0.01344651,  0.02120657,  0.0364228 ,  0.00080453,\n",
       "        -0.01371937, -0.00719492, -0.02838941,  0.00084645,  0.00406764,\n",
       "         0.02031693,  0.01511678, -0.00315523, -0.02488908,  0.00031211,\n",
       "        -0.01148084,  0.01396522,  0.00478183, -0.00231867, -0.01280346,\n",
       "        -0.0061245 ,  0.00765629, -0.00674587, -0.01192178, -0.02165435,\n",
       "        -0.01400887, -0.01152872,  0.01557742,  0.01088298, -0.0234405 ,\n",
       "         0.00972221,  0.0208199 , -0.00410755,  0.01549991, -0.02131084,\n",
       "        -0.00588992,  0.05915627, -0.00058301, -0.01331872, -0.01478012,\n",
       "        -0.01011048,  0.01177264,  0.01503943, -0.00535763, -0.00126141,\n",
       "        -0.0086549 , -0.02229335, -0.02131533,  0.01830393, -0.00158275,\n",
       "         0.00652715,  0.01952923, -0.02787214, -0.00304046, -0.00988715,\n",
       "         0.01445364,  0.00284821,  0.01130946, -0.01254085, -0.00895446,\n",
       "        -0.01112825, -0.01167006,  0.02055139,  0.01244263,  0.00206305,\n",
       "        -0.00401805, -0.00101168, -0.00412102,  0.01759524, -0.01196369,\n",
       "        -0.00404182, -0.00651316,  0.0018498 , -0.0098655 , -0.01290128,\n",
       "        -0.00277389,  0.02420073,  0.00455815, -0.02366817, -0.0241697 ,\n",
       "        -0.00535645, -0.01139541, -0.01318729, -0.01616709,  0.0014302 ,\n",
       "        -0.02308897, -0.03083491, -0.01422341, -0.02255154,  0.00099102,\n",
       "        -0.00394679, -0.00559968, -0.01725446, -0.0067719 ,  0.00697507,\n",
       "        -0.02103628, -0.00745654, -0.00527508, -0.00475882, -0.0255604 ,\n",
       "        -0.00545694, -0.01815226, -0.00168115,  0.00557174, -0.00822441,\n",
       "         0.00092668, -0.00409786, -0.00992212], dtype=float32),\n",
       " array([[ 0.21319494],\n",
       "        [-0.2643655 ],\n",
       "        [-0.04092547],\n",
       "        [ 0.43468794],\n",
       "        [ 0.05909175],\n",
       "        [ 0.09574743],\n",
       "        [ 0.07250641],\n",
       "        [ 0.10438   ],\n",
       "        [-0.05269539],\n",
       "        [ 0.07772737],\n",
       "        [ 0.1870204 ],\n",
       "        [ 0.00661875],\n",
       "        [-0.1956828 ],\n",
       "        [-0.1629233 ],\n",
       "        [-0.06980029],\n",
       "        [ 0.18186197],\n",
       "        [ 0.15153101],\n",
       "        [-0.16247013],\n",
       "        [-0.10194924],\n",
       "        [ 0.0846037 ],\n",
       "        [ 0.11759599],\n",
       "        [-0.1687688 ],\n",
       "        [-0.18282169],\n",
       "        [ 0.23986854],\n",
       "        [ 0.0680666 ],\n",
       "        [ 0.02654308],\n",
       "        [ 0.17107616],\n",
       "        [ 0.05613098],\n",
       "        [-0.3297046 ],\n",
       "        [-0.23245636],\n",
       "        [-0.0334187 ],\n",
       "        [ 0.05432349],\n",
       "        [ 0.20140803],\n",
       "        [-0.1650743 ],\n",
       "        [ 0.16600388],\n",
       "        [ 0.14287408],\n",
       "        [-0.11842989],\n",
       "        [ 0.15117447],\n",
       "        [ 0.14482921],\n",
       "        [ 0.06755605],\n",
       "        [ 0.01987165],\n",
       "        [-0.06157211],\n",
       "        [ 0.22239466],\n",
       "        [ 0.17657563],\n",
       "        [ 0.18099181],\n",
       "        [ 0.04837606],\n",
       "        [ 0.17634238],\n",
       "        [-0.10515402],\n",
       "        [ 0.19218774],\n",
       "        [ 0.08382161],\n",
       "        [-0.14380825],\n",
       "        [-0.24669029],\n",
       "        [-0.15193193],\n",
       "        [-0.21245794],\n",
       "        [-0.221435  ],\n",
       "        [ 0.18915531],\n",
       "        [-0.15154295],\n",
       "        [-0.198205  ],\n",
       "        [ 0.05178771],\n",
       "        [ 0.13963024],\n",
       "        [ 0.19873986],\n",
       "        [-0.03015435],\n",
       "        [ 0.37735617],\n",
       "        [-0.05760881],\n",
       "        [-0.21216378],\n",
       "        [-0.11285765],\n",
       "        [ 0.07635994],\n",
       "        [ 0.12595654],\n",
       "        [-0.12184088],\n",
       "        [ 0.04447056],\n",
       "        [ 0.3669771 ],\n",
       "        [-0.07453331],\n",
       "        [ 0.10682495],\n",
       "        [-0.12628096],\n",
       "        [ 0.18791078],\n",
       "        [-0.25166628],\n",
       "        [-0.32400942],\n",
       "        [-0.21605262],\n",
       "        [ 0.00776908],\n",
       "        [ 0.16549829],\n",
       "        [ 0.00743789],\n",
       "        [ 0.20525378],\n",
       "        [-0.30864552],\n",
       "        [ 0.27875865],\n",
       "        [-0.26722437],\n",
       "        [-0.24664181],\n",
       "        [ 0.20352702],\n",
       "        [-0.26903796],\n",
       "        [-0.20772907],\n",
       "        [ 0.26394764],\n",
       "        [ 0.21557374],\n",
       "        [ 0.12390986],\n",
       "        [-0.17774375],\n",
       "        [-0.01592072],\n",
       "        [ 0.16378018],\n",
       "        [ 0.130642  ],\n",
       "        [ 0.10434546],\n",
       "        [ 0.12216794],\n",
       "        [ 0.16470097],\n",
       "        [-0.03676925],\n",
       "        [ 0.16744365],\n",
       "        [ 0.1387878 ],\n",
       "        [-0.08900257],\n",
       "        [-0.24795656],\n",
       "        [-0.06723728],\n",
       "        [ 0.03815639],\n",
       "        [-0.09018103],\n",
       "        [-0.22415026],\n",
       "        [-0.09576656],\n",
       "        [ 0.01839302],\n",
       "        [ 0.13452837],\n",
       "        [-0.03059435],\n",
       "        [ 0.05971551],\n",
       "        [-0.14838691],\n",
       "        [-0.04326581],\n",
       "        [ 0.07274324],\n",
       "        [-0.05730839],\n",
       "        [-0.20892681],\n",
       "        [-0.11675463],\n",
       "        [-0.03300311],\n",
       "        [ 0.15707982],\n",
       "        [-0.09424543],\n",
       "        [ 0.18052447],\n",
       "        [ 0.03312586],\n",
       "        [ 0.19854756],\n",
       "        [-0.18919021],\n",
       "        [ 0.18853785],\n",
       "        [ 0.05305191]], dtype=float32),\n",
       " array([0.07566772], dtype=float32)]"
      ]
     },
     "execution_count": 5,
     "metadata": {},
     "output_type": "execute_result"
    }
   ],
   "source": [
    "model.get_weights()"
   ]
  },
  {
   "cell_type": "code",
   "execution_count": 1,
   "metadata": {},
   "outputs": [],
   "source": [
    "# Decode reviews\n",
    "def decode_review(encoded_review):\n",
    "    return ' '.join([reverse_word_index.get(i - 3, '?') for i in encoded_review])\n",
    "\n",
    "# Preprocess user input\n",
    "def preprocess_text(text):\n",
    "    words = text.lower().split()\n",
    "    encoded_review = [word_index.get(word, 2) + 3 for word in words]\n",
    "    padded_review = sequence.pad_sequences([encoded_review], maxlen=500)\n",
    "    return padded_review"
   ]
  }
 ],
 "metadata": {
  "kernelspec": {
   "display_name": "base",
   "language": "python",
   "name": "python3"
  },
  "language_info": {
   "codemirror_mode": {
    "name": "ipython",
    "version": 3
   },
   "file_extension": ".py",
   "mimetype": "text/x-python",
   "name": "python",
   "nbconvert_exporter": "python",
   "pygments_lexer": "ipython3",
   "version": "3.12.4"
  }
 },
 "nbformat": 4,
 "nbformat_minor": 2
}
