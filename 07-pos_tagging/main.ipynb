{
 "cells": [
  {
   "cell_type": "markdown",
   "metadata": {},
   "source": [
    "## Parts of Speech Tagging"
   ]
  },
  {
   "cell_type": "code",
   "execution_count": null,
   "metadata": {},
   "outputs": [],
   "source": [
    "## From Straw Dogs by John Gray\n",
    "\n",
    "paragraph = '''For much of their history and all of prehistory, humans did not see themselves as being\n",
    "any different from the other animals among which they lived. Hunter-gatherers saw their prey as equals,\n",
    "if not superiors, and animals were worshipped as divinities in many traditional cultures. The humanist\n",
    "sense of a gulf between ourselves and other animals is an aberration. Feeble as it is today, the feeling\n",
    "of sharing a common destiny with other living things is embedded in the human psyche. Those who struggle\n",
    "to conserve what is left of the natural environment are moved by the love of living things, biophilia,\n",
    "the frail bond of feeling that ties humankind to the Earth.\n",
    "\n",
    "The mass of mankind is ruled not by its own intermittent moral sensations, still less by self-interest,\n",
    "but by the needs of the moment. It seems fated to wreck the balance of life on Earth — and thereby to be \n",
    "the agent of its own destruction. What could be more hopeless than placing the Earth in the charge of this\n",
    "exceptionally destructive species? It is not of becoming the planet’s wise stewards that Earth-lovers dream,\n",
    "but of a time when humans have ceased to matter.\n",
    "'''"
   ]
  },
  {
   "cell_type": "code",
   "execution_count": null,
   "metadata": {},
   "outputs": [],
   "source": [
    "import nltk\n",
    "\n",
    "sentences = nltk.sent_tokenize(paragraph)"
   ]
  },
  {
   "cell_type": "code",
   "execution_count": null,
   "metadata": {},
   "outputs": [],
   "source": [
    "sentences"
   ]
  },
  {
   "cell_type": "code",
   "execution_count": null,
   "metadata": {},
   "outputs": [],
   "source": [
    "import nltk\n",
    "nltk.download('averaged_perceptron_tagger')\n",
    "nltk.download('averaged_perceptron_tagger_eng')"
   ]
  },
  {
   "cell_type": "code",
   "execution_count": null,
   "metadata": {},
   "outputs": [],
   "source": [
    "from nltk.corpus import stopwords\n",
    "\n",
    "for i in range(len(sentences)):\n",
    "    words = nltk.word_tokenize(sentences[i])\n",
    "    filtered_words = [word for word in words if word not in set(stopwords.words('english'))]\n",
    "    pos = nltk.pos_tag(filtered_words)\n",
    "    print(pos)\n"
   ]
  },
  {
   "cell_type": "code",
   "execution_count": 26,
   "metadata": {},
   "outputs": [],
   "source": [
    "jpow_brrr = \"I am predicting a recession in Q1 of 2025. Know what happens next.\".split()"
   ]
  },
  {
   "cell_type": "code",
   "execution_count": null,
   "metadata": {},
   "outputs": [],
   "source": [
    "nltk.pos_tag(jpow_brrr)"
   ]
  },
  {
   "cell_type": "markdown",
   "metadata": {},
   "source": [
    "## Named Entity Recognition"
   ]
  },
  {
   "cell_type": "code",
   "execution_count": 4,
   "metadata": {},
   "outputs": [],
   "source": [
    "new_sentence = '''On July 20, 1969, Neil Armstrong and Buzz Aldrin landed on the moon as \n",
    "part of NASA's Apollo 11 mission. The spacecraft, launched from Cape Canaveral, Florida,\n",
    "was designed by engineers from the United States. Millions of people worldwide watched \n",
    "the historic event on television, as Armstrong took his first steps and famously said, \n",
    "'That's one small step for man, one giant leap for mankind.' The mission was a key moment\n",
    "in the Space Race between the USA and the Soviet Union.\n",
    "'''"
   ]
  },
  {
   "cell_type": "code",
   "execution_count": 3,
   "metadata": {},
   "outputs": [],
   "source": [
    "import nltk\n",
    "\n",
    "words = nltk.word_tokenize(new_sentence)\n",
    "tag_elements = nltk.pos_tag(words)"
   ]
  },
  {
   "cell_type": "code",
   "execution_count": null,
   "metadata": {},
   "outputs": [],
   "source": [
    "nltk.download('words')\n",
    "nltk.download('maxent_ne_chunker')"
   ]
  },
  {
   "cell_type": "code",
   "execution_count": null,
   "metadata": {},
   "outputs": [],
   "source": [
    "## Start Jupyter Server to run code\n",
    "\n",
    "print(nltk.ne_chunk(tag_elements))\n",
    "# nltk.ne_chunk(tag_elements).draw()"
   ]
  }
 ],
 "metadata": {
  "kernelspec": {
   "display_name": "Python 3 (ipykernel)",
   "language": "python",
   "name": "python3"
  },
  "language_info": {
   "codemirror_mode": {
    "name": "ipython",
    "version": 3
   },
   "file_extension": ".py",
   "mimetype": "text/x-python",
   "name": "python",
   "nbconvert_exporter": "python",
   "pygments_lexer": "ipython3",
   "version": "3.12.4"
  }
 },
 "nbformat": 4,
 "nbformat_minor": 4
}
