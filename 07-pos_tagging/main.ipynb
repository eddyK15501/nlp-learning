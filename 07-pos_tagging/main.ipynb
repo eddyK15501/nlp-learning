{
 "cells": [
  {
   "cell_type": "markdown",
   "metadata": {},
   "source": [
    "## Parts of Speech Tagging"
   ]
  },
  {
   "cell_type": "code",
   "execution_count": 1,
   "metadata": {},
   "outputs": [],
   "source": [
    "## From Straw Dogs by John Gray\n",
    "\n",
    "paragraph = '''For much of their history and all of prehistory, humans did not see themselves as being\n",
    "any different from the other animals among which they lived. Hunter-gatherers saw their prey as equals,\n",
    "if not superiors, and animals were worshipped as divinities in many traditional cultures. The humanist\n",
    "sense of a gulf between ourselves and other animals is an aberration. Feeble as it is today, the feeling\n",
    "of sharing a common destiny with other living things is embedded in the human psyche. Those who struggle\n",
    "to conserve what is left of the natural environment are moved by the love of living things, biophilia,\n",
    "the frail bond of feeling that ties humankind to the Earth.\n",
    "\n",
    "The mass of mankind is ruled not by its own intermittent moral sensations, still less by self-interest,\n",
    "but by the needs of the moment. It seems fated to wreck the balance of life on Earth — and thereby to be \n",
    "the agent of its own destruction. What could be more hopeless than placing the Earth in the charge of this\n",
    "exceptionally destructive species? It is not of becoming the planet’s wise stewards that Earth-lovers dream,\n",
    "but of a time when humans have ceased to matter.\n",
    "'''"
   ]
  },
  {
   "cell_type": "code",
   "execution_count": 2,
   "metadata": {},
   "outputs": [],
   "source": [
    "import nltk\n",
    "\n",
    "sentences = nltk.sent_tokenize(paragraph)"
   ]
  },
  {
   "cell_type": "code",
   "execution_count": 3,
   "metadata": {},
   "outputs": [
    {
     "data": {
      "text/plain": [
       "['For much of their history and all of prehistory, humans did not see themselves as being\\nany different from the other animals among which they lived.',\n",
       " 'Hunter-gatherers saw their prey as equals,\\nif not superiors, and animals were worshipped as divinities in many traditional cultures.',\n",
       " 'The humanist\\nsense of a gulf between ourselves and other animals is an aberration.',\n",
       " 'Feeble as it is today, the feeling\\nof sharing a common destiny with other living things is embedded in the human psyche.',\n",
       " 'Those who struggle\\nto conserve what is left of the natural environment are moved by the love of living things, biophilia,\\nthe frail bond of feeling that ties humankind to the Earth.',\n",
       " 'The mass of mankind is ruled not by its own intermittent moral sensations, still less by self-interest,\\nbut by the needs of the moment.',\n",
       " 'It seems fated to wreck the balance of life on Earth — and thereby to be \\nthe agent of its own destruction.',\n",
       " 'What could be more hopeless than placing the Earth in the charge of this\\nexceptionally destructive species?',\n",
       " 'It is not of becoming the planet’s wise stewards that Earth-lovers dream,\\nbut of a time when humans have ceased to matter.']"
      ]
     },
     "execution_count": 3,
     "metadata": {},
     "output_type": "execute_result"
    }
   ],
   "source": [
    "sentences"
   ]
  },
  {
   "cell_type": "code",
   "execution_count": 8,
   "metadata": {},
   "outputs": [
    {
     "name": "stderr",
     "output_type": "stream",
     "text": [
      "[nltk_data] Downloading package averaged_perceptron_tagger_eng to\n",
      "[nltk_data]     /Users/edwardkim/nltk_data...\n",
      "[nltk_data]   Package averaged_perceptron_tagger_eng is already up-to-\n",
      "[nltk_data]       date!\n"
     ]
    },
    {
     "data": {
      "text/plain": [
       "True"
      ]
     },
     "execution_count": 8,
     "metadata": {},
     "output_type": "execute_result"
    }
   ],
   "source": [
    "import nltk\n",
    "nltk.download('averaged_perceptron_tagger_eng')"
   ]
  },
  {
   "cell_type": "code",
   "execution_count": 9,
   "metadata": {},
   "outputs": [
    {
     "name": "stdout",
     "output_type": "stream",
     "text": [
      "[('For', 'IN'), ('much', 'JJ'), ('history', 'NN'), ('prehistory', 'NN'), (',', ','), ('humans', 'NNS'), ('see', 'VBP'), ('different', 'JJ'), ('animals', 'NNS'), ('among', 'IN'), ('lived', 'JJ'), ('.', '.')]\n",
      "[('Hunter-gatherers', 'NNS'), ('saw', 'VBD'), ('prey', 'JJ'), ('equals', 'NNS'), (',', ','), ('superiors', 'NNS'), (',', ','), ('animals', 'NNS'), ('worshipped', 'VBD'), ('divinities', 'NNS'), ('many', 'JJ'), ('traditional', 'JJ'), ('cultures', 'NNS'), ('.', '.')]\n",
      "[('The', 'DT'), ('humanist', 'NN'), ('sense', 'NN'), ('gulf', 'NN'), ('animals', 'NNS'), ('aberration', 'NN'), ('.', '.')]\n",
      "[('Feeble', 'JJ'), ('today', 'NN'), (',', ','), ('feeling', 'VBG'), ('sharing', 'VBG'), ('common', 'JJ'), ('destiny', 'JJ'), ('living', 'NN'), ('things', 'NNS'), ('embedded', 'VBD'), ('human', 'JJ'), ('psyche', 'NN'), ('.', '.')]\n",
      "[('Those', 'DT'), ('struggle', 'JJ'), ('conserve', 'NN'), ('left', 'VBD'), ('natural', 'JJ'), ('environment', 'NN'), ('moved', 'VBD'), ('love', 'RBR'), ('living', 'JJ'), ('things', 'NNS'), (',', ','), ('biophilia', 'NNS'), (',', ','), ('frail', 'VBP'), ('bond', 'NN'), ('feeling', 'NN'), ('ties', 'NNS'), ('humankind', 'VBP'), ('Earth', 'NNP'), ('.', '.')]\n",
      "[('The', 'DT'), ('mass', 'NN'), ('mankind', 'NN'), ('ruled', 'VBD'), ('intermittent', 'JJ'), ('moral', 'JJ'), ('sensations', 'NNS'), (',', ','), ('still', 'RB'), ('less', 'RBR'), ('self-interest', 'JJ'), (',', ','), ('needs', 'JJ'), ('moment', 'NN'), ('.', '.')]\n",
      "[('It', 'PRP'), ('seems', 'VBZ'), ('fated', 'JJ'), ('wreck', 'NN'), ('balance', 'NN'), ('life', 'NN'), ('Earth', 'NNP'), ('—', 'NNP'), ('thereby', 'RB'), ('agent', 'JJ'), ('destruction', 'NN'), ('.', '.')]\n",
      "[('What', 'WP'), ('could', 'MD'), ('hopeless', 'VB'), ('placing', 'VBG'), ('Earth', 'NNP'), ('charge', 'NN'), ('exceptionally', 'RB'), ('destructive', 'JJ'), ('species', 'NNS'), ('?', '.')]\n",
      "[('It', 'PRP'), ('becoming', 'VBG'), ('planet', 'JJ'), ('’', 'JJ'), ('wise', 'NN'), ('stewards', 'NNS'), ('Earth-lovers', 'NNP'), ('dream', 'NN'), (',', ','), ('time', 'NN'), ('humans', 'NNS'), ('ceased', 'VBD'), ('matter', 'NN'), ('.', '.')]\n"
     ]
    }
   ],
   "source": [
    "from nltk.corpus import stopwords\n",
    "\n",
    "for i in range(len(sentences)):\n",
    "    words = nltk.word_tokenize(sentences[i])\n",
    "    filtered_words = [word for word in words if word not in set(stopwords.words('english'))]\n",
    "    pos = nltk.pos_tag(filtered_words)\n",
    "    print(pos)"
   ]
  },
  {
   "cell_type": "code",
   "execution_count": null,
   "metadata": {},
   "outputs": [],
   "source": []
  }
 ],
 "metadata": {
  "kernelspec": {
   "display_name": "Python 3",
   "language": "python",
   "name": "python3"
  },
  "language_info": {
   "codemirror_mode": {
    "name": "ipython",
    "version": 3
   },
   "file_extension": ".py",
   "mimetype": "text/x-python",
   "name": "python",
   "nbconvert_exporter": "python",
   "pygments_lexer": "ipython3",
   "version": "3.12.0"
  }
 },
 "nbformat": 4,
 "nbformat_minor": 2
}
